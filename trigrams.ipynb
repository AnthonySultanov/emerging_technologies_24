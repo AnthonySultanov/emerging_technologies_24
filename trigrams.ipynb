{
 "cells": [
  {
   "cell_type": "markdown",
   "metadata": {},
   "source": [
    "# **Tasks**\n",
    "---"
   ]
  },
  {
   "cell_type": "markdown",
   "metadata": {},
   "source": [
    "## **Task 1: Third-order letter approximation model** \n",
    "---"
   ]
  },
  {
   "cell_type": "markdown",
   "metadata": {},
   "source": [
    "##       **RESEARCH (PART1)**   "
   ]
  },
  {
   "cell_type": "markdown",
   "metadata": {},
   "source": [
    "1. Task 1 tell me to pick 5 books from Project Gutenburg so i picked 5 which are in the books folder and did reasearch on what Project Gutenburg is  \n",
    "and found out it is archive for digital books"
   ]
  },
  {
   "cell_type": "markdown",
   "metadata": {},
   "source": [
    "2. then i have to remove all characters except for ASCII letters , full stops, and spaces and then to make all the letters uppercase which i do below in txtcleaner"
   ]
  },
  {
   "cell_type": "markdown",
   "metadata": {},
   "source": [
    "##       **TASK (PART1)**"
   ]
  },
  {
   "cell_type": "code",
   "execution_count": 1,
   "metadata": {},
   "outputs": [
    {
     "name": "stdout",
     "output_type": "stream",
     "text": [
      "ALL NON ALPHANUMERIC CHARACTERS TO BE REMOVED AND MAKE TEXT UPPERCASE\n"
     ]
    }
   ],
   "source": [
    "# imports\n",
    "import re\n",
    "from collections import defaultdict\n",
    "#function for the text\n",
    "def txtcleaner(text):\n",
    "  # removes non ascii , space , fullstops\n",
    "    text = re.sub(r'[^A-Za-z .]', '', text)\n",
    "\n",
    "  # convert all characters to uppercase \n",
    "    text = text.upper()\n",
    "    return text\n",
    "\n",
    "    #Test\n",
    "test = \"All no&&&&n alph@anum#eric ch#!ara!ct!,ers t$o b$e re$m$oved an$d ma%ke t$e$xt upp#er#c@as!e\"\n",
    "txtcleaned = txtcleaner(test)    \n",
    "print(txtcleaned)"
   ]
  },
  {
   "cell_type": "markdown",
   "metadata": {},
   "source": [
    "##       **Output (PART1)**"
   ]
  },
  {
   "cell_type": "markdown",
   "metadata": {},
   "source": [
    "From the above output, you can see that when the txtcleaner function is called, it removes all non-alphabetic and non-space characters.  \n",
    "Examples of characters it removes include &, @, #, and $, leaving only letters and spaces.Then, it converts all lowercase letters  \n",
    "to uppercase to ensure uniformity."
   ]
  },
  {
   "cell_type": "markdown",
   "metadata": {},
   "source": [
    "##       **Reaserch (PART2)**"
   ]
  },
  {
   "cell_type": "markdown",
   "metadata": {},
   "source": [
    "1.  The 2nd part of the task tells me to make a trigram model so i looked up what a trigram\n",
    "    model is and found out it is a three character sequence of words that focuses on\n",
    "    predicting or modeling sequences.\n",
    "    ref:https://web.cs.hacettepe.edu.tr/~ilyas/Courses/CMP711/lec03-LanguageModels.pdf\n",
    "2.     "
   ]
  },
  {
   "cell_type": "markdown",
   "metadata": {},
   "source": [
    "##       **TASK (PART2)**"
   ]
  },
  {
   "cell_type": "code",
   "execution_count": 2,
   "metadata": {},
   "outputs": [
    {
     "name": "stdout",
     "output_type": "stream",
     "text": [
      "TRIGRAM 1: THI - COUNT 1\n",
      "TRIGRAM 2: HIS - COUNT 1\n",
      "TRIGRAM 3: IS  - COUNT 2\n",
      "TRIGRAM 4: S I - COUNT 1\n",
      "TRIGRAM 5:  IS - COUNT 1\n",
      "TRIGRAM 6: S A - COUNT 1\n",
      "TRIGRAM 7:  A  - COUNT 1\n",
      "TRIGRAM 8: A T - COUNT 1\n",
      "TRIGRAM 9:  TR - COUNT 1\n",
      "TRIGRAM 10: TRI - COUNT 1\n",
      "TRIGRAM 11: RIG - COUNT 1\n",
      "TRIGRAM 12: IGR - COUNT 1\n",
      "TRIGRAM 13: GRA - COUNT 1\n",
      "TRIGRAM 14: RAM - COUNT 1\n",
      "TRIGRAM 15: AM  - COUNT 1\n",
      "TRIGRAM 16: M M - COUNT 1\n",
      "TRIGRAM 17:  MO - COUNT 1\n",
      "TRIGRAM 18: MOD - COUNT 1\n",
      "TRIGRAM 19: ODE - COUNT 1\n",
      "TRIGRAM 20: DEL - COUNT 1\n",
      "TRIGRAM 21: EL  - COUNT 1\n",
      "TRIGRAM 22: L T - COUNT 1\n",
      "TRIGRAM 23:  TE - COUNT 1\n",
      "TRIGRAM 24: TES - COUNT 1\n",
      "TRIGRAM 25: EST - COUNT 1\n"
     ]
    }
   ],
   "source": [
    "from collections import defaultdict\n",
    "def new_trigrammodel(text):\n",
    "    trigram_counts = defaultdict(int)\n",
    "    #this loops through the text and collect trigrams\n",
    "    for i in range(len(text) - 2):\n",
    "        trigram = text[i:i+3]\n",
    "        #counts trigram\n",
    "        trigram_counts[trigram] += 1\n",
    "    return trigram_counts\n",
    "\n",
    "\n",
    "#Test\n",
    "test2 = \"THIS IS A TRIGRAM MODEL TEST\"\n",
    "trigram_counts = new_trigrammodel(test2)\n",
    "#this uses enumerate taht adds a counter to integers\n",
    "for idx, (trigram, count) in enumerate(trigram_counts.items(), start=1):\n",
    "    print(f\"TRIGRAM {idx}: {trigram} - COUNT {count}\")\n"
   ]
  },
  {
   "cell_type": "markdown",
   "metadata": {},
   "source": [
    "##       **Output (PART2)**"
   ]
  },
  {
   "cell_type": "markdown",
   "metadata": {},
   "source": [
    "From the above output you can see, that from the word \"THIS IS A TRIGRAM MODEL TEST\" it  \n",
    "extracts every 3 character sequence and counts how many times each of these trigrams  \n",
    "appears across the entire text"
   ]
  },
  {
   "cell_type": "markdown",
   "metadata": {},
   "source": [
    "##       **Processing and Loading the 5 Texts.**"
   ]
  },
  {
   "cell_type": "code",
   "execution_count": null,
   "metadata": {},
   "outputs": [],
   "source": [
    "#file path \n",
    " filepath = [\"books/gena.txt\",\"books/georgebernardshaw.txt\",\"books/hevosmiehia.txt\",\"books/saddleroom.txt\",\"books/thebaseballboysoflakeport.txt\"]"
   ]
  }
 ],
 "metadata": {
  "kernelspec": {
   "display_name": "Python 3",
   "language": "python",
   "name": "python3"
  },
  "language_info": {
   "codemirror_mode": {
    "name": "ipython",
    "version": 3
   },
   "file_extension": ".py",
   "mimetype": "text/x-python",
   "name": "python",
   "nbconvert_exporter": "python",
   "pygments_lexer": "ipython3",
   "version": "3.12.1"
  }
 },
 "nbformat": 4,
 "nbformat_minor": 2
}
