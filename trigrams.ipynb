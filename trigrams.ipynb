{
 "cells": [
  {
   "cell_type": "markdown",
   "metadata": {},
   "source": [
    "# **Tasks**\n",
    "---"
   ]
  },
  {
   "cell_type": "markdown",
   "metadata": {},
   "source": [
    "## **Task 1: Third-order letter approximation model** \n",
    "---"
   ]
  },
  {
   "cell_type": "markdown",
   "metadata": {},
   "source": [
    "##       **RESEARCH (PART1)**   "
   ]
  },
  {
   "cell_type": "markdown",
   "metadata": {},
   "source": [
    "1. Task 1 tell me to pick 5 books from Project Gutenburg so i picked 5 which are in the books folder and did reasearch on what Project Gutenburg is and found out it is archive for digital books"
   ]
  },
  {
   "cell_type": "markdown",
   "metadata": {},
   "source": [
    "2. then i have to remove all characters except for ASCII letters , full stops, and spaces and then to make all the letters uppercase which i do below in txtcleaner"
   ]
  },
  {
   "cell_type": "markdown",
   "metadata": {},
   "source": [
    "##       **TASK (PART1)**"
   ]
  },
  {
   "cell_type": "code",
   "execution_count": 6,
   "metadata": {},
   "outputs": [],
   "source": [
    "import re\n",
    "from collections import defaultdict\n",
    "\n",
    "def txtcleaner(text):\n",
    "  # removes non ascii , space , fullstops\n",
    "    text = re.sub(r'[^A-Za-z .]', '', text)\n",
    "\n",
    "  # convert all characters to uppercase \n",
    "    text = text.upper()\n",
    "    return text\n",
    "\n",
    "    #Testing/Example\n",
    "    txtcleaner = txtcleaner(text)\n",
    "    cleaned_text = txtcleaner(text) \n",
    "    print(txtcleaner[:250])  # Print the first 250 characters to test "
   ]
  }
 ],
 "metadata": {
  "kernelspec": {
   "display_name": "Python 3",
   "language": "python",
   "name": "python3"
  },
  "language_info": {
   "codemirror_mode": {
    "name": "ipython",
    "version": 3
   },
   "file_extension": ".py",
   "mimetype": "text/x-python",
   "name": "python",
   "nbconvert_exporter": "python",
   "pygments_lexer": "ipython3",
   "version": "3.12.1"
  }
 },
 "nbformat": 4,
 "nbformat_minor": 2
}
