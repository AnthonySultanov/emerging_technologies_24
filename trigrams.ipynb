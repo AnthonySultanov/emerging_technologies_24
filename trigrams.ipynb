{
 "cells": [
  {
   "cell_type": "markdown",
   "metadata": {},
   "source": [
    "# **Tasks**\n",
    "---"
   ]
  },
  {
   "cell_type": "markdown",
   "metadata": {},
   "source": [
    "## **Task 1: Third-order letter approximation model** \n",
    "---"
   ]
  },
  {
   "cell_type": "markdown",
   "metadata": {},
   "source": [
    "##       **RESEARCH (PART1)**   "
   ]
  },
  {
   "cell_type": "markdown",
   "metadata": {},
   "source": [
    "1. Task 1 tell me to pick 5 books from Project Gutenburg so i picked 5 which are in the books folder and did reasearch on what Project Gutenburg is and found out it is archive for digital books"
   ]
  },
  {
   "cell_type": "markdown",
   "metadata": {},
   "source": [
    "2. then i have to remove all characters except for ASCII letters , full stops, and spaces and then to make all the letters uppercase which i do below in txtcleaner"
   ]
  },
  {
   "cell_type": "markdown",
   "metadata": {},
   "source": [
    "##       **TASK (PART1)**"
   ]
  },
  {
   "cell_type": "code",
   "execution_count": 4,
   "metadata": {},
   "outputs": [
    {
     "name": "stdout",
     "output_type": "stream",
     "text": [
      "ALL NON ALPHANUMERIC CHARACTERS TO BE REMOVED AND MAKE TEXT UPPERCASE\n"
     ]
    }
   ],
   "source": [
    "# imports\n",
    "import re\n",
    "from collections import defaultdict\n",
    "#function for the text\n",
    "def txtcleaner(text):\n",
    "  # removes non ascii , space , fullstops\n",
    "    text = re.sub(r'[^A-Za-z .]', '', text)\n",
    "\n",
    "  # convert all characters to uppercase \n",
    "    text = text.upper()\n",
    "    return text\n",
    "\n",
    "    #Test\n",
    "test = \"All no&&&&n alph@anum#eric ch#!ara!ct!,ers t$o b$e re$m$oved an$d ma%ke t$e$xt upp#er#c@as!e\"\n",
    "txtcleaned = txtcleaner(test)    \n",
    "print(txtcleaned)"
   ]
  },
  {
   "cell_type": "markdown",
   "metadata": {},
   "source": [
    "##       **Output (PART1)**"
   ]
  },
  {
   "cell_type": "markdown",
   "metadata": {},
   "source": [
    "From the above output you can see that when the txtcleaner function gets called it removes all non alphabetic and non space characters and makes them all uppercase"
   ]
  }
 ],
 "metadata": {
  "kernelspec": {
   "display_name": "Python 3",
   "language": "python",
   "name": "python3"
  },
  "language_info": {
   "codemirror_mode": {
    "name": "ipython",
    "version": 3
   },
   "file_extension": ".py",
   "mimetype": "text/x-python",
   "name": "python",
   "nbconvert_exporter": "python",
   "pygments_lexer": "ipython3",
   "version": "3.12.1"
  }
 },
 "nbformat": 4,
 "nbformat_minor": 2
}
