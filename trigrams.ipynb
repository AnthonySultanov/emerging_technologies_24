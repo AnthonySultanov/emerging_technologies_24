{
 "cells": [
  {
   "cell_type": "markdown",
   "metadata": {},
   "source": [
    "# **Tasks**\n"
   ]
  },
  {
   "cell_type": "markdown",
   "metadata": {},
   "source": [
    "---\n",
    "## **Task 1: Third-order letter approximation model** \n",
    "---"
   ]
  },
  {
   "cell_type": "code",
   "execution_count": 37,
   "metadata": {},
   "outputs": [],
   "source": [
    "#code imports\n",
    "import re\n",
    "import random\n",
    "import json\n"
   ]
  },
  {
   "cell_type": "markdown",
   "metadata": {},
   "source": [
    "##       **Input (PART1)**   "
   ]
  },
  {
   "cell_type": "markdown",
   "metadata": {},
   "source": [
    "1. Task 1 instructed me to pick 5 books from Project Gutenberg for this task.\n",
    "- Project Gutenberg is a digital library of free eBooks\n",
    "- I selected the following 5 books:\n",
    "    - gena.txt\n",
    "    - georgebernardshaw.txt\n",
    "    - hevosmiehia.txt\n",
    "    - saddleroom.txt\n",
    "    - thebaseballboysoflakeport.tx"
   ]
  },
  {
   "cell_type": "markdown",
   "metadata": {},
   "source": [
    "2.  The task then requires me to remove all non-ASCII characters except for letters, full stops, and spaces. I also needed to convert all text to uppercase.\n",
    "    I implemented this functionality in the txtcleaner function."
   ]
  },
  {
   "cell_type": "markdown",
   "metadata": {},
   "source": [
    "##       **TASK1 (PART1)**"
   ]
  },
  {
   "cell_type": "code",
   "execution_count": 38,
   "metadata": {},
   "outputs": [],
   "source": [
    "\n",
    "\n",
    "from collections import defaultdict\n",
    "#function for the text\n",
    "def txtcleaner(text):\n",
    "  # cleans the input text by removing non ascii characters except letters, spaces, and full stops\n",
    "    textclean = re.sub(r'[^A-Za-z .]', '', text)\n",
    "\n",
    "  # convert all characters to uppercase \n",
    "    textclean = textclean.upper()\n",
    "    return textclean\n",
    "\n"
   ]
  },
  {
   "cell_type": "code",
   "execution_count": null,
   "metadata": {},
   "outputs": [],
   "source": [
    "    #Testing if function works\n",
    "textclean = \"All no&&&&n alph@anum#eric ch#!ara!ct!,ers t$o b$e re$m$oved an$d ma%ke t$e$xt upp#er#c@as!e\"\n",
    "txtcleaned = txtcleaner(textclean)    \n",
    "print(txtcleaned)"
   ]
  },
  {
   "cell_type": "markdown",
   "metadata": {},
   "source": [
    "##       **Output (PART1)**"
   ]
  },
  {
   "cell_type": "markdown",
   "metadata": {},
   "source": [
    "From the above output, you can see that when the txtcleaner function is called, it removes  all non-alphabetic and non-space characters, leaving only letters, spaces, and full stops. It also converts all text to uppercase."
   ]
  },
  {
   "cell_type": "markdown",
   "metadata": {},
   "source": [
    "##       **Input (PART2)**"
   ]
  },
  {
   "cell_type": "markdown",
   "metadata": {},
   "source": [
    "1.  For the second part of the task I was instructed to create a trigram model\n",
    "    - A trigram model processes sequences of three consecutive characters from the input text, predicting or modeling sequences.\n",
    "    - ref: https://web.cs.hacettepe.edu.tr/~ilyas/Courses/CMP711/lec03-LanguageModels.pdf\n",
    "     \n",
    " "
   ]
  },
  {
   "cell_type": "markdown",
   "metadata": {},
   "source": [
    "##       **TASK1 (PART2)**"
   ]
  },
  {
   "cell_type": "code",
   "execution_count": 40,
   "metadata": {},
   "outputs": [],
   "source": [
    "from collections import defaultdict\n",
    "#this creates a trigam model that counts the number of times a trigram appears in the text\n",
    "def new_trigrammodel(text):\n",
    "    #this creates a dictionary\n",
    "    trigram_counts = defaultdict(int)\n",
    "    #this loops through the text and collect trigrams\n",
    "    for i in range(len(text) - 2):\n",
    "        #this gets the trigram\n",
    "        trigram = text[i:i+3]\n",
    "        #counts trigram\n",
    "        trigram_counts[trigram] += 1\n",
    "    return trigram_counts\n",
    "\n",
    "\n",
    "\n"
   ]
  },
  {
   "cell_type": "code",
   "execution_count": null,
   "metadata": {},
   "outputs": [],
   "source": [
    "#this is me Testing the function\n",
    "test2 = \"THIS IS A TRIGRAM MODEL TEST\"\n",
    "trigram_counts = new_trigrammodel(test2)\n",
    "#this uses enumerate taht adds a counter to integers\n",
    "for idx, (trigram, count) in enumerate(trigram_counts.items(), start=1):\n",
    "    print(f\"TRIGRAM {idx}: {trigram} - COUNT {count}\")"
   ]
  },
  {
   "cell_type": "markdown",
   "metadata": {},
   "source": [
    "##       **Output (PART2)**"
   ]
  },
  {
   "cell_type": "markdown",
   "metadata": {},
   "source": [
    "1. From the above output you can see, that from the word \"THIS IS A TRIGRAM MODEL TEST\" it  \n",
    "extracts every 3 character sequence and counts how many times each of these trigrams  \n",
    "appears across the entire text"
   ]
  },
  {
   "cell_type": "markdown",
   "metadata": {},
   "source": [
    "##       **Processing and Loading the 5 Texts.**"
   ]
  },
  {
   "cell_type": "code",
   "execution_count": 42,
   "metadata": {},
   "outputs": [],
   "source": [
    "# path of the books\n",
    "books = [\"books/gena.txt\", \"books/georgebernardshaw.txt\", \"books/hevosmiehia.txt\", \"books/saddleroom.txt\", \"books/thebaseballboysoflakeport.txt\"]\n",
    "\n",
    "#this function reads the books and returns the text\n",
    "\n",
    "allbooktext = \"\"\n",
    "for book in books:\n",
    "    #this opens the book in utf-8 encoding\n",
    "    with open(book, \"r\", encoding='utf-8') as file:\n",
    "            text = file.read()\n",
    "            textclean = txtcleaner(text)\n",
    "            allbooktext += textclean\n",
    "\n",
    "#this function creates a trigram model for the books\n"
   ]
  },
  {
   "cell_type": "code",
   "execution_count": null,
   "metadata": {},
   "outputs": [],
   "source": [
    "#this function creates a trigram model from the entire book text\n",
    "trigrammodel = new_trigrammodel(allbooktext)\n",
    "\n",
    "#this loop iterates through the trigram model and prints each trigram with its count\n",
    "for idx, (trigram, count) in enumerate(trigrammodel.items(), start=1):\n",
    "    print(f\"TRIGRAM {idx}: {trigram} - COUNT {count}\")\n"
   ]
  },
  {
   "cell_type": "markdown",
   "metadata": {},
   "source": [
    "##       **Output (Processing and Loading the 5 Texts.)**"
   ]
  },
  {
   "cell_type": "markdown",
   "metadata": {},
   "source": [
    "1. Each book from the books/ folder is loaded and read\n",
    "2. The text is cleaned to retain only letters, spaces, and full stops while converting to uppercase\n",
    "3. All the cleaned text is combined into a single string\n",
    "4. A trigram model is generated, producing counts for each trigram in the combined text"
   ]
  },
  {
   "cell_type": "markdown",
   "metadata": {},
   "source": [
    "---\n",
    "## **Task 2: Third-order letter approximation generation** \n",
    "---"
   ]
  },
  {
   "cell_type": "markdown",
   "metadata": {},
   "source": [
    "##       **Input (PART1)**   "
   ]
  },
  {
   "cell_type": "markdown",
   "metadata": {},
   "source": [
    "1. In this task i must use the trigram model generated from task 1 to create a string of 10,000 charecters\n",
    "2. The generation process must start with the string \"TH\"\n",
    "3. For each new charecter the model will use the previous two charecters to predict the next one"
   ]
  },
  {
   "cell_type": "markdown",
   "metadata": {},
   "source": [
    "##       **TASK (PART1)**"
   ]
  },
  {
   "cell_type": "code",
   "execution_count": 44,
   "metadata": {},
   "outputs": [],
   "source": [
    "\n",
    "\n",
    "def nextcharecter(trigrammodel, currenttrigram):\n",
    "    #matches the trigram with the current trigram\n",
    "    nexttrigram = {trigram: count for trigram, count in trigrammodel.items() if trigram.startswith(currenttrigram)}\n",
    "    #this checks if there is no trigram if no trigram is found it prints no trigram found\n",
    "    if not nexttrigram:\n",
    "        print(\"No trigram found\")\n",
    "        return None\n",
    "    \n",
    "    #this selects the next 2 characters\n",
    "    nextcharecter = [trigram[2] for trigram in nexttrigram.keys()] \n",
    "    #this selects the weight of the next 2 characters\n",
    "    weight = list(nexttrigram.values())\n",
    "\n",
    "    #this selects the next character based on the weight\n",
    "    randomchar = random.choices(nextcharecter, weights=weight)[0]\n",
    "    print(f\"Selected next character '{randomchar}' for bigram '{currenttrigram}'\")\n",
    "    return randomchar\n",
    "  "
   ]
  },
  {
   "cell_type": "markdown",
   "metadata": {},
   "source": [
    "##       **Output (PART1)**"
   ]
  },
  {
   "cell_type": "markdown",
   "metadata": {},
   "source": [
    "1. The nextcharecter function selects the next charecter based on the trigram models probabilitys\n",
    "2. If there is no matching trigram for current bigram it will output no trigram found\n",
    "3. If there is a matching trigram it prints the selected charecter with the bigram used for prediction"
   ]
  },
  {
   "cell_type": "markdown",
   "metadata": {},
   "source": [
    "##       **TASK (PART2)**"
   ]
  },
  {
   "cell_type": "code",
   "execution_count": 45,
   "metadata": {},
   "outputs": [],
   "source": [
    "def generatetext(trigrammodel, length=10000, start='TH'):\n",
    "    generated_text = start\n",
    "\n",
    "    while len(generated_text) < length:\n",
    "        # Get the last two characters\n",
    "        currenttrigram = generated_text[-2:]  \n",
    "        # Get the next character\n",
    "        randomchar = nextcharecter(trigrammodel, currenttrigram)\n",
    "        # Handle case when no trigram matches\n",
    "        if randomchar is None:  \n",
    "            break\n",
    "        # Append the next character to the generated text\n",
    "        generated_text += randomchar\n",
    "        \n",
    "    return generated_text\n",
    "\n",
    "\n"
   ]
  },
  {
   "cell_type": "markdown",
   "metadata": {},
   "source": [
    "##       **Output (PART2)**"
   ]
  },
  {
   "cell_type": "markdown",
   "metadata": {},
   "source": [
    "1. The generated_text function starts with the given string \"TH\" and generates charecters by predicting each one based on the last two charecters\n",
    "2. It continues until the string reaches the lenght of 10,000 or no valid trigrams found for the current bigram"
   ]
  },
  {
   "cell_type": "markdown",
   "metadata": {},
   "source": [
    "##       **TASK (PART3)**"
   ]
  },
  {
   "cell_type": "code",
   "execution_count": null,
   "metadata": {},
   "outputs": [],
   "source": [
    "# Generate the text\n",
    "generated_text = generatetext(trigrammodel, length=10000)\n",
    "print(generated_text)"
   ]
  },
  {
   "cell_type": "markdown",
   "metadata": {},
   "source": [
    "##       **Output (PART3)**"
   ]
  },
  {
   "cell_type": "markdown",
   "metadata": {},
   "source": [
    "1. The generated text begins with TH and progressively adds characters based on the trigram models predictions\n",
    "2. The maximum length of the text is 10,000 characters, but the process may terminate earlier if no valid trigrams are found\n",
    "3. The output showcases the generated string"
   ]
  },
  {
   "cell_type": "markdown",
   "metadata": {},
   "source": [
    "---\n",
    "## **Task 3: Analyze your model** \n",
    "---"
   ]
  },
  {
   "cell_type": "markdown",
   "metadata": {},
   "source": [
    "1. Objective: Analyze the text generated in Task 2 to determine the percentage of real words it contains\n",
    "2. Data:\n",
    "    - Load words.txt, a file containing a list of valid words\n",
    "    - Use these words to evaluate the generated text\n",
    "3. Process:\n",
    "    - Split the generated text into individual words\n",
    "    - Check each word against the list of valid words\n",
    "    - Compute the percentage of valid words in the generated text  "
   ]
  },
  {
   "cell_type": "code",
   "execution_count": null,
   "metadata": {},
   "outputs": [],
   "source": [
    "#load the real words from the file\n",
    "with open(\"books/words.txt\", \"r\", encoding='utf-8') as file:\n",
    "    #this reads and splits the file to a list\n",
    "    realwords = file.read().split(\"\\n\")\n",
    "#this returns the function to text \n",
    "print(realwords)    "
   ]
  },
  {
   "cell_type": "code",
   "execution_count": 48,
   "metadata": {},
   "outputs": [],
   "source": [
    "#the function that calculates the percentage of real words in the text\n",
    "def text_precentage(text,valid_words):\n",
    "    #this splits the text into words\n",
    "    text_words = text.split()\n",
    "    #this checks if the word is in the valid words\n",
    "    realwords = [word for word in text_words if word in valid_words]\n",
    "    #this returns the percentage of real words in the text\n",
    "    return len(realwords) / len(text_words) * 100 if text_words else 0\n",
    "\n",
    "\n",
    "\n"
   ]
  },
  {
   "cell_type": "code",
   "execution_count": null,
   "metadata": {},
   "outputs": [],
   "source": [
    "#this returns the function to text\n",
    "precentofwords = text_precentage(generated_text, realwords)\n",
    "print(f\"Percentage of real words in generated text: {precentofwords:.2f}%\")"
   ]
  },
  {
   "cell_type": "markdown",
   "metadata": {},
   "source": [
    "---\n",
    "## **Task 4: Export your model as JSON** \n",
    "---"
   ]
  },
  {
   "cell_type": "markdown",
   "metadata": {},
   "source": [
    "##       **Input (PART1)**   "
   ]
  },
  {
   "cell_type": "markdown",
   "metadata": {},
   "source": [
    "1. Objective: Export the trigram model created in Task1 into a JSON file\n",
    "2. Process:\n",
    "    - Convert the defaultdict to a regular dictionary since defaultdict cannot be directly serialized to JSON.\n",
    "    - Save the dictionary into a JSON file named trigrams.json"
   ]
  },
  {
   "cell_type": "code",
   "execution_count": 50,
   "metadata": {},
   "outputs": [],
   "source": [
    "\n",
    "# Convert the defaultdict to a regular dictionary\n",
    "trigram_dict = dict(trigrammodel)\n",
    "\n",
    "# Save the dictionary as a JSON file\n",
    "with open('trigrams.json', 'w') as json_file:\n",
    "    json.dump(trigram_dict, json_file)"
   ]
  },
  {
   "cell_type": "markdown",
   "metadata": {},
   "source": [
    "##       **Output (PART1)**"
   ]
  },
  {
   "cell_type": "markdown",
   "metadata": {},
   "source": [
    "1. The trigram model is successfully converted from a defaultdict to a regular dictionary\n",
    "2. The dictionary is serialized and saved as a JSON file named trigrams.json\n"
   ]
  }
 ],
 "metadata": {
  "kernelspec": {
   "display_name": "Python 3",
   "language": "python",
   "name": "python3"
  },
  "language_info": {
   "codemirror_mode": {
    "name": "ipython",
    "version": 3
   },
   "file_extension": ".py",
   "mimetype": "text/x-python",
   "name": "python",
   "nbconvert_exporter": "python",
   "pygments_lexer": "ipython3",
   "version": "3.12.1"
  }
 },
 "nbformat": 4,
 "nbformat_minor": 2
}
